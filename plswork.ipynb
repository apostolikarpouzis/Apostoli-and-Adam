{
 "cells": [
  {
   "cell_type": "code",
   "execution_count": 1,
   "metadata": {},
   "outputs": [
    {
     "name": "stdin",
     "output_type": "stream",
     "text": [
      "What is your name?  Paul\n",
      "What is your age?  20\n"
     ]
    },
    {
     "name": "stdout",
     "output_type": "stream",
     "text": [
      "Hi, Paul! You were born in either 2003 or 2002!\n"
     ]
    }
   ],
   "source": [
    "name = \"What is your name? \"\n",
    "askName = input(name)\n",
    "\n",
    "age = \"What is your age? \"\n",
    "askAge = input(age)\n",
    "a = int(askAge)\n",
    "\n",
    "hi = \"Hi, \" + askName + \"!\"\n",
    "\n",
    "currentYear = 2023\n",
    "year = currentYear - a \n",
    "yearBorn = \" You were born in either \" + str(year) + \" or \" + str(year-1) + \"!\"\n",
    "\n",
    "print(hi + yearBorn)"
   ]
  }
 ],
 "metadata": {
  "kernelspec": {
   "display_name": "Python 3",
   "language": "python",
   "name": "python3"
  },
  "language_info": {
   "codemirror_mode": {
    "name": "ipython",
    "version": 3
   },
   "file_extension": ".py",
   "mimetype": "text/x-python",
   "name": "python",
   "nbconvert_exporter": "python",
   "pygments_lexer": "ipython3",
   "version": "3.8.3"
  }
 },
 "nbformat": 4,
 "nbformat_minor": 4
}
